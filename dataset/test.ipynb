{
 "cells": [
  {
   "cell_type": "code",
   "execution_count": 16,
   "metadata": {},
   "outputs": [],
   "source": [
    "import torch\n",
    "from torchvision.models import resnet50\n",
    "from torchvision.models import ResNet50_Weights\n",
    "from PIL import Image\n",
    "import clip\n",
    "import matplotlib.pyplot as plt"
   ]
  },
  {
   "cell_type": "code",
   "execution_count": null,
   "metadata": {},
   "outputs": [
    {
     "ename": "AttributeError",
     "evalue": "module 'clip' has no attribute 'load'",
     "output_type": "error",
     "traceback": [
      "\u001b[1;31m---------------------------------------------------------------------------\u001b[0m",
      "\u001b[1;31mAttributeError\u001b[0m                            Traceback (most recent call last)",
      "Cell \u001b[1;32mIn[15], line 14\u001b[0m\n\u001b[0;32m      1\u001b[0m device \u001b[38;5;241m=\u001b[39m \u001b[38;5;124m\"\u001b[39m\u001b[38;5;124mcuda\u001b[39m\u001b[38;5;124m\"\u001b[39m\n\u001b[0;32m      3\u001b[0m paths \u001b[38;5;241m=\u001b[39m [\n\u001b[0;32m      4\u001b[0m     \u001b[38;5;124mr\u001b[39m\u001b[38;5;124m\"\u001b[39m\u001b[38;5;124mC:\u001b[39m\u001b[38;5;124m\\\u001b[39m\u001b[38;5;124mUsers\u001b[39m\u001b[38;5;124m\\\u001b[39m\u001b[38;5;124mSteven\u001b[39m\u001b[38;5;124m\\\u001b[39m\u001b[38;5;124mDesktop\u001b[39m\u001b[38;5;124m\\\u001b[39m\u001b[38;5;124mgen-pixel\u001b[39m\u001b[38;5;124m\\\u001b[39m\u001b[38;5;124mdata\u001b[39m\u001b[38;5;124m\\\u001b[39m\u001b[38;5;124mFlickr\u001b[39m\u001b[38;5;124m\\\u001b[39m\u001b[38;5;124m0.jpg\u001b[39m\u001b[38;5;124m\"\u001b[39m,\n\u001b[0;32m      5\u001b[0m     \u001b[38;5;124mr\u001b[39m\u001b[38;5;124m\"\u001b[39m\u001b[38;5;124mC:\u001b[39m\u001b[38;5;124m\\\u001b[39m\u001b[38;5;124mUsers\u001b[39m\u001b[38;5;124m\\\u001b[39m\u001b[38;5;124mSteven\u001b[39m\u001b[38;5;124m\\\u001b[39m\u001b[38;5;124mDesktop\u001b[39m\u001b[38;5;124m\\\u001b[39m\u001b[38;5;124mgen-pixel\u001b[39m\u001b[38;5;124m\\\u001b[39m\u001b[38;5;124mdata\u001b[39m\u001b[38;5;124m\\\u001b[39m\u001b[38;5;124mFlickr\u001b[39m\u001b[38;5;124m\\\u001b[39m\u001b[38;5;124m1.jpg\u001b[39m\u001b[38;5;124m\"\u001b[39m,\n\u001b[1;32m   (...)\u001b[0m\n\u001b[0;32m     11\u001b[0m     \u001b[38;5;124mr\u001b[39m\u001b[38;5;124m\"\u001b[39m\u001b[38;5;124mC:\u001b[39m\u001b[38;5;124m\\\u001b[39m\u001b[38;5;124mUsers\u001b[39m\u001b[38;5;124m\\\u001b[39m\u001b[38;5;124mSteven\u001b[39m\u001b[38;5;124m\\\u001b[39m\u001b[38;5;124mDesktop\u001b[39m\u001b[38;5;124m\\\u001b[39m\u001b[38;5;124mgen-pixel\u001b[39m\u001b[38;5;124m\\\u001b[39m\u001b[38;5;124mdata\u001b[39m\u001b[38;5;124m\\\u001b[39m\u001b[38;5;124mFlickr\u001b[39m\u001b[38;5;124m\\\u001b[39m\u001b[38;5;124m7.jpg\u001b[39m\u001b[38;5;124m\"\u001b[39m,\n\u001b[0;32m     12\u001b[0m ]\n\u001b[1;32m---> 14\u001b[0m model, preprocess \u001b[38;5;241m=\u001b[39m \u001b[43mclip\u001b[49m\u001b[38;5;241;43m.\u001b[39;49m\u001b[43mload\u001b[49m(\u001b[38;5;124m\"\u001b[39m\u001b[38;5;124mVIT-B/32\u001b[39m\u001b[38;5;124m\"\u001b[39m, device\u001b[38;5;241m=\u001b[39mdevice)\n",
      "\u001b[1;31mAttributeError\u001b[0m: module 'clip' has no attribute 'load'"
     ]
    }
   ],
   "source": [
    "device = \"cuda\"\n",
    "\n",
    "paths = [\n",
    "    r\"C:\\Users\\Steven\\Desktop\\gen-pixel\\data\\Flickr\\0.jpg\",\n",
    "    r\"C:\\Users\\Steven\\Desktop\\gen-pixel\\data\\Flickr\\1.jpg\",\n",
    "    r\"C:\\Users\\Steven\\Desktop\\gen-pixel\\data\\Flickr\\2.jpg\",\n",
    "    r\"C:\\Users\\Steven\\Desktop\\gen-pixel\\data\\Flickr\\3.jpg\",\n",
    "    r\"C:\\Users\\Steven\\Desktop\\gen-pixel\\data\\Flickr\\4.jpg\",\n",
    "    r\"C:\\Users\\Steven\\Desktop\\gen-pixel\\data\\Flickr\\5.jpg\",\n",
    "    r\"C:\\Users\\Steven\\Desktop\\gen-pixel\\data\\Flickr\\6.jpg\",\n",
    "    r\"C:\\Users\\Steven\\Desktop\\gen-pixel\\data\\Flickr\\7.jpg\",\n",
    "]\n",
    "\n",
    "model, preprocess = clip.load(\"VIT-B/32\", device=device)\n"
   ]
  },
  {
   "cell_type": "code",
   "execution_count": null,
   "metadata": {},
   "outputs": [],
   "source": [
    "classes = []\n",
    "\n",
    "for image_path in paths:\n",
    "    image = Image.open(image_path).unsqueeze(0)\n",
    "    image = preprocess(image).to(device)\n",
    "    "
   ]
  },
  {
   "cell_type": "code",
   "execution_count": 13,
   "metadata": {},
   "outputs": [
    {
     "name": "stdout",
     "output_type": "stream",
     "text": [
      "(8, 100352)\n",
      "[[-22.78322  -44.16095 ]\n",
      " [-51.283676 -96.76944 ]\n",
      " [ 20.377522  60.695473]\n",
      " [-97.62503  -39.93661 ]\n",
      " [157.85275  -92.4719  ]\n",
      " [ 59.36308  112.416306]\n",
      " [-26.844696  60.076683]\n",
      " [-39.0567    40.150352]]\n"
     ]
    },
    {
     "data": {
      "text/plain": [
       "<matplotlib.collections.PathCollection at 0x2981deedea0>"
      ]
     },
     "execution_count": 13,
     "metadata": {},
     "output_type": "execute_result"
    },
    {
     "data": {
      "image/png": "[encoded data removed]",
      "text/plain": [
       "<Figure size 640x480 with 1 Axes>"
      ]
     },
     "metadata": {},
     "output_type": "display_data"
    }
   ],
   "source": [
    "from sklearn.decomposition import PCA\n",
    "import numpy as np\n",
    "\n",
    "pca = PCA(n_components=2)\n",
    "\n",
    "features_flat = []\n",
    "\n",
    "for image_features in features:\n",
    "    feature = image_features[-1].squeeze().detach().flatten().numpy()\n",
    "    features_flat.append(feature)\n",
    "\n",
    "features_flat = np.array(features_flat)\n",
    "print(features_flat.shape)\n",
    "features_pca = pca.fit_transform(features_flat)\n",
    "print(features_pca)\n",
    "plt.scatter(features_pca[:, 0], features_pca[:, 1])\n"
   ]
  }
 ],
 "metadata": {
  "kernelspec": {
   "display_name": ".venv",
   "language": "python",
   "name": "python3"
  },
  "language_info": {
   "codemirror_mode": {
    "name": "ipython",
    "version": 3
   },
   "file_extension": ".py",
   "mimetype": "text/x-python",
   "name": "python",
   "nbconvert_exporter": "python",
   "pygments_lexer": "ipython3",
   "version": "3.10.7"
  }
 },
 "nbformat": 4,
 "nbformat_minor": 2
}
